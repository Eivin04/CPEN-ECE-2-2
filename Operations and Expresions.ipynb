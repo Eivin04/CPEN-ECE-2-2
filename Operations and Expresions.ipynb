{
  "nbformat": 4,
  "nbformat_minor": 0,
  "metadata": {
    "colab": {
      "name": "Untitled0.ipynb",
      "provenance": [],
      "authorship_tag": "ABX9TyNoZhLKC+fTzCqS/11jgT10",
      "include_colab_link": true
    },
    "kernelspec": {
      "name": "python3",
      "display_name": "Python 3"
    },
    "language_info": {
      "name": "python"
    }
  },
  "cells": [
    {
      "cell_type": "markdown",
      "metadata": {
        "id": "view-in-github",
        "colab_type": "text"
      },
      "source": [
        "<a href=\"https://colab.research.google.com/github/Eivin04/CPEN-ECE-2-2/blob/main/Operations%20and%20Expresions.ipynb\" target=\"_parent\"><img src=\"https://colab.research.google.com/assets/colab-badge.svg\" alt=\"Open In Colab\"/></a>"
      ]
    },
    {
      "cell_type": "markdown",
      "metadata": {
        "id": "LtmuXR8aNrwH"
      },
      "source": [
        "**Operations and Expressions**"
      ]
    },
    {
      "cell_type": "markdown",
      "metadata": {
        "id": "fC34cDafN1Z3"
      },
      "source": [
        "**Boolean OPeratiors**"
      ]
    },
    {
      "cell_type": "markdown",
      "metadata": {
        "id": "f9DMUuUkNwYH"
      },
      "source": [
        ""
      ]
    },
    {
      "cell_type": "code",
      "metadata": {
        "colab": {
          "base_uri": "https://localhost:8080/"
        },
        "id": "6eVlLCPzKmij",
        "outputId": "3c36a8f6-7077-4137-d969-09d2aebe4484"
      },
      "source": [
        "print (10>9)\n",
        "print (10==9)"
      ],
      "execution_count": 3,
      "outputs": [
        {
          "output_type": "stream",
          "name": "stdout",
          "text": [
            "True\n",
            "True\n"
          ]
        }
      ]
    },
    {
      "cell_type": "code",
      "metadata": {
        "colab": {
          "base_uri": "https://localhost:8080/"
        },
        "id": "SyPMcKjqK_Va",
        "outputId": "6f608826-744f-4756-f54e-700f010ec89a"
      },
      "source": [
        "a = 10\n",
        "b = 9\n",
        "print (a>b)\n",
        "b"
      ],
      "execution_count": 4,
      "outputs": [
        {
          "output_type": "stream",
          "name": "stdout",
          "text": [
            "True\n"
          ]
        },
        {
          "output_type": "execute_result",
          "data": {
            "text/plain": [
              "9"
            ]
          },
          "metadata": {},
          "execution_count": 4
        }
      ]
    },
    {
      "cell_type": "code",
      "metadata": {
        "colab": {
          "base_uri": "https://localhost:8080/"
        },
        "id": "N_H3-eu9LUay",
        "outputId": "9a6bcf70-5088-4832-ce24-728eb37bf444"
      },
      "source": [
        "a = 10\n",
        "b = 9\n",
        "c = 8\n",
        "\n",
        "c = print (a>b)\n",
        "\n",
        "c"
      ],
      "execution_count": 5,
      "outputs": [
        {
          "output_type": "stream",
          "name": "stdout",
          "text": [
            "True\n"
          ]
        }
      ]
    },
    {
      "cell_type": "markdown",
      "metadata": {
        "id": "zfYlEDVNN-um"
      },
      "source": [
        "**Python Operators**"
      ]
    },
    {
      "cell_type": "code",
      "metadata": {
        "colab": {
          "base_uri": "https://localhost:8080/"
        },
        "id": "6LnVk5JpLemK",
        "outputId": "3aeb9745-a8a2-4b7b-8811-7d3f3c4c4e32"
      },
      "source": [
        "print (bool(\"Hello\"))\n",
        "print (bool(15))\n",
        "print (bool(True))\n",
        "print(bool(False))\n",
        "print (bool(1))\n",
        "print (bool(0))\n",
        "print (bool(None))\n",
        "print (bool([]))"
      ],
      "execution_count": 6,
      "outputs": [
        {
          "output_type": "stream",
          "name": "stdout",
          "text": [
            "True\n",
            "True\n",
            "True\n",
            "False\n",
            "True\n",
            "False\n",
            "False\n",
            "False\n"
          ]
        }
      ]
    },
    {
      "cell_type": "code",
      "metadata": {
        "colab": {
          "base_uri": "https://localhost:8080/"
        },
        "id": "AlLmanEGLk1a",
        "outputId": "38c96b31-f79f-446c-c7f0-45d38b48b6b3"
      },
      "source": [
        "def myFunction(): return True\n",
        "print (myFunction())"
      ],
      "execution_count": 7,
      "outputs": [
        {
          "output_type": "stream",
          "name": "stdout",
          "text": [
            "True\n"
          ]
        }
      ]
    },
    {
      "cell_type": "markdown",
      "metadata": {
        "id": "oMXUbu9WOLQ-"
      },
      "source": [
        "**Bitwise Operators**"
      ]
    },
    {
      "cell_type": "code",
      "metadata": {
        "colab": {
          "base_uri": "https://localhost:8080/"
        },
        "id": "FZMWAtYULmcq",
        "outputId": "85a9a2ee-4244-4ea2-87a4-4ca3525621bd"
      },
      "source": [
        "print (10>9)\n",
        "\n",
        "a = 6\n",
        "b = 7\n",
        "print (a==b)\n",
        "print (6==6)\n",
        "print (a!=a)"
      ],
      "execution_count": 8,
      "outputs": [
        {
          "output_type": "stream",
          "name": "stdout",
          "text": [
            "True\n",
            "False\n",
            "True\n",
            "False\n"
          ]
        }
      ]
    },
    {
      "cell_type": "code",
      "metadata": {
        "colab": {
          "base_uri": "https://localhost:8080/"
        },
        "id": "9nJJsV03Lqpb",
        "outputId": "e3b274f2-539c-47d8-c68a-695a264df789"
      },
      "source": [
        "print (10+5)\n",
        "print (10-5)\n",
        "print (10*5)\n",
        "print (10/5)\n",
        "print (10%5)\n",
        "print (10//3)\n",
        "print (10**2)"
      ],
      "execution_count": 9,
      "outputs": [
        {
          "output_type": "stream",
          "name": "stdout",
          "text": [
            "15\n",
            "5\n",
            "50\n",
            "2.0\n",
            "0\n",
            "3\n",
            "100\n"
          ]
        }
      ]
    },
    {
      "cell_type": "code",
      "metadata": {
        "colab": {
          "base_uri": "https://localhost:8080/",
          "height": 129
        },
        "id": "j6j278YTLt6L",
        "outputId": "e52147fa-0342-4a7c-d00b-068798cfbe17"
      },
      "source": [
        "print (10>9)\n",
        "\n",
        "a = 6 // 0000 0110\n",
        "b = 7 // 0000 0111\n",
        "print (a==b)\n",
        "print (6==6)\n",
        "print (a!=a)"
      ],
      "execution_count": 12,
      "outputs": [
        {
          "output_type": "error",
          "ename": "SyntaxError",
          "evalue": "ignored",
          "traceback": [
            "\u001b[0;36m  File \u001b[0;32m\"<ipython-input-12-0343c239bdb9>\"\u001b[0;36m, line \u001b[0;32m3\u001b[0m\n\u001b[0;31m    a = 6 // 0000 0110\u001b[0m\n\u001b[0m                     ^\u001b[0m\n\u001b[0;31mSyntaxError\u001b[0m\u001b[0;31m:\u001b[0m invalid token\n"
          ]
        }
      ]
    },
    {
      "cell_type": "code",
      "metadata": {
        "colab": {
          "base_uri": "https://localhost:8080/"
        },
        "id": "9F1d6bA3Mep2",
        "outputId": "b9e62db5-5676-402c-b410-8215563b5385"
      },
      "source": [
        "a = 60 #0011 1100\n",
        "b = 13 \n",
        "\n",
        "print (a^b)\n",
        "print (-a)\n",
        "print (a<<2)\n",
        "print (a>>2)\n",
        "print (a>>2) # 0000 1111"
      ],
      "execution_count": 13,
      "outputs": [
        {
          "output_type": "stream",
          "name": "stdout",
          "text": [
            "49\n",
            "-60\n",
            "240\n",
            "15\n",
            "15\n"
          ]
        }
      ]
    },
    {
      "cell_type": "markdown",
      "metadata": {
        "id": "ztdDCnfTORtG"
      },
      "source": [
        "**Assignement Operators**"
      ]
    },
    {
      "cell_type": "code",
      "metadata": {
        "colab": {
          "base_uri": "https://localhost:8080/"
        },
        "id": "n8wPhJsVMhhd",
        "outputId": "1f9f0a04-7244-4b8b-986d-feac2d6b08c5"
      },
      "source": [
        "x = 2\n",
        "x +=3 #SameAs x = x + 3\n",
        "print(x)\n",
        "x"
      ],
      "execution_count": 14,
      "outputs": [
        {
          "output_type": "stream",
          "name": "stdout",
          "text": [
            "5\n"
          ]
        },
        {
          "output_type": "execute_result",
          "data": {
            "text/plain": [
              "5"
            ]
          },
          "metadata": {},
          "execution_count": 14
        }
      ]
    },
    {
      "cell_type": "markdown",
      "metadata": {
        "id": "6hkZ2TP3OaMO"
      },
      "source": [
        "**Logical Operators**"
      ]
    },
    {
      "cell_type": "code",
      "metadata": {
        "id": "rbdMmWZrNJFm"
      },
      "source": [
        "x = 5\n",
        "x and x = 5\n",
        "print(x and x)"
      ],
      "execution_count": null,
      "outputs": []
    },
    {
      "cell_type": "code",
      "metadata": {
        "colab": {
          "base_uri": "https://localhost:8080/"
        },
        "id": "FyV-44RxNK6N",
        "outputId": "fbd629e4-c060-462c-d0cf-822b60bea2a9"
      },
      "source": [
        "a = 5\n",
        "b = 6\n",
        "\n",
        "a>b and a==a\n",
        "a<b or b==a"
      ],
      "execution_count": 17,
      "outputs": [
        {
          "output_type": "execute_result",
          "data": {
            "text/plain": [
              "True"
            ]
          },
          "metadata": {},
          "execution_count": 17
        }
      ]
    },
    {
      "cell_type": "code",
      "metadata": {
        "colab": {
          "base_uri": "https://localhost:8080/"
        },
        "id": "nBsfnhPLNOLG",
        "outputId": "a750df51-7493-420f-dc52-912bfbf7a221"
      },
      "source": [
        "a = 5\n",
        "b = 6\n",
        "\n",
        "print(a>b and a==a)\n",
        "print(a<b or b==a)"
      ],
      "execution_count": 18,
      "outputs": [
        {
          "output_type": "stream",
          "name": "stdout",
          "text": [
            "False\n",
            "True\n"
          ]
        }
      ]
    },
    {
      "cell_type": "markdown",
      "metadata": {
        "id": "JRxuLAUjOgWW"
      },
      "source": [
        "**Identity Operator**"
      ]
    },
    {
      "cell_type": "code",
      "metadata": {
        "colab": {
          "base_uri": "https://localhost:8080/"
        },
        "id": "a6PjcYsENRp-",
        "outputId": "f454aa76-89ed-43a2-fa2d-4593037d3156"
      },
      "source": [
        "a is b\n",
        "a is not b"
      ],
      "execution_count": 19,
      "outputs": [
        {
          "output_type": "execute_result",
          "data": {
            "text/plain": [
              "True"
            ]
          },
          "metadata": {},
          "execution_count": 19
        }
      ]
    },
    {
      "cell_type": "code",
      "metadata": {
        "colab": {
          "base_uri": "https://localhost:8080/"
        },
        "id": "8rBvaIXsNU6_",
        "outputId": "f26d5f5d-60ac-489d-b3af-be2edb816cca"
      },
      "source": [
        "print(a is b)\n",
        "print(a is not b)"
      ],
      "execution_count": 20,
      "outputs": [
        {
          "output_type": "stream",
          "name": "stdout",
          "text": [
            "False\n",
            "True\n"
          ]
        }
      ]
    }
  ]
}