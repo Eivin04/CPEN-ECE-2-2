{
  "nbformat": 4,
  "nbformat_minor": 0,
  "metadata": {
    "colab": {
      "name": "Introduction to Python Programming",
      "provenance": [],
      "authorship_tag": "ABX9TyM2do5M2Gs/mcgxsHHzzAIy",
      "include_colab_link": true
    },
    "kernelspec": {
      "name": "python3",
      "display_name": "Python 3"
    },
    "language_info": {
      "name": "python"
    }
  },
  "cells": [
    {
      "cell_type": "markdown",
      "metadata": {
        "id": "view-in-github",
        "colab_type": "text"
      },
      "source": [
        "<a href=\"https://colab.research.google.com/github/Eivin04/CPEN-ECE-2-2/blob/main/Introduction_to_Python_Programming.ipynb\" target=\"_parent\"><img src=\"https://colab.research.google.com/assets/colab-badge.svg\" alt=\"Open In Colab\"/></a>"
      ]
    },
    {
      "cell_type": "code",
      "metadata": {
        "id": "Sd1xZynLjB3f"
      },
      "source": [
        "#Review of Python"
      ],
      "execution_count": 18,
      "outputs": []
    },
    {
      "cell_type": "code",
      "metadata": {
        "colab": {
          "base_uri": "https://localhost:8080/"
        },
        "id": "fn8AbQlEjIVG",
        "outputId": "f652866e-6430-4f03-db92-7ff5037c86b9"
      },
      "source": [
        "print(\"Hello World!\")"
      ],
      "execution_count": 3,
      "outputs": [
        {
          "output_type": "stream",
          "name": "stdout",
          "text": [
            "Hello World!\n"
          ]
        }
      ]
    },
    {
      "cell_type": "code",
      "metadata": {
        "colab": {
          "base_uri": "https://localhost:8080/"
        },
        "id": "PmQQNCh_jhsf",
        "outputId": "06cf2d58-7698-46c8-b4e4-b383d0bb86da"
      },
      "source": [
        "b= 'Sally'\n",
        "print(b)"
      ],
      "execution_count": 7,
      "outputs": [
        {
          "output_type": "stream",
          "name": "stdout",
          "text": [
            "Sally\n"
          ]
        }
      ]
    },
    {
      "cell_type": "code",
      "metadata": {
        "colab": {
          "base_uri": "https://localhost:8080/"
        },
        "id": "BlFXfzi2lKlW",
        "outputId": "710bc0a5-080b-4ccb-958e-68cfca5899b6"
      },
      "source": [
        "b = int(4)\n",
        "print(b)"
      ],
      "execution_count": 8,
      "outputs": [
        {
          "output_type": "stream",
          "name": "stdout",
          "text": [
            "4\n"
          ]
        }
      ]
    },
    {
      "cell_type": "code",
      "metadata": {
        "colab": {
          "base_uri": "https://localhost:8080/"
        },
        "id": "vpRKtsO3lS4L",
        "outputId": "ec978f38-85a5-40b1-ad23-6c5963342667"
      },
      "source": [
        "b= float(4.3)\n",
        "print(b)"
      ],
      "execution_count": 14,
      "outputs": [
        {
          "output_type": "stream",
          "name": "stdout",
          "text": [
            "4.3\n"
          ]
        }
      ]
    },
    {
      "cell_type": "code",
      "metadata": {
        "colab": {
          "base_uri": "https://localhost:8080/"
        },
        "id": "79nWFdHslzXd",
        "outputId": "8e45f8e6-1b74-450f-e44c-9a0e8dc41c86"
      },
      "source": [
        "x= 5\n",
        "y= \"John\"\n",
        "print(type(x))\n",
        "print(type(y))"
      ],
      "execution_count": 16,
      "outputs": [
        {
          "output_type": "stream",
          "name": "stdout",
          "text": [
            "<class 'int'>\n",
            "<class 'str'>\n"
          ]
        }
      ]
    },
    {
      "cell_type": "code",
      "metadata": {
        "colab": {
          "base_uri": "https://localhost:8080/"
        },
        "id": "FxhM9hWJmel4",
        "outputId": "4fb51691-71a4-40f4-8df6-d57d7e1c841f"
      },
      "source": [
        "a= 4\n",
        "A=\"Sally\"\n",
        "#A will not overwrtie a\n",
        "print(a)\n",
        "print(A)"
      ],
      "execution_count": 20,
      "outputs": [
        {
          "output_type": "stream",
          "name": "stdout",
          "text": [
            "4\n",
            "Sally\n"
          ]
        }
      ]
    },
    {
      "cell_type": "code",
      "metadata": {
        "colab": {
          "base_uri": "https://localhost:8080/"
        },
        "id": "eizj4FGWmtNH",
        "outputId": "ae671fe2-5263-4da9-9bc4-99c0be468cc1"
      },
      "source": [
        "x,y,z= \"One\",\"Two\",\"Three\"\n",
        "print(x)\n",
        "print(y)\n",
        "print(z)"
      ],
      "execution_count": 27,
      "outputs": [
        {
          "output_type": "stream",
          "name": "stdout",
          "text": [
            "One\n",
            "Two\n",
            "Three\n"
          ]
        }
      ]
    },
    {
      "cell_type": "code",
      "metadata": {
        "colab": {
          "base_uri": "https://localhost:8080/"
        },
        "id": "NdvAp-iZnnb7",
        "outputId": "c5300fff-730e-4f68-97ef-abf08012a10d"
      },
      "source": [
        "x=y=z=\"Four\"\n",
        "print(x)\n",
        "print(y)\n",
        "print(z)"
      ],
      "execution_count": 29,
      "outputs": [
        {
          "output_type": "stream",
          "name": "stdout",
          "text": [
            "Four\n",
            "Four\n",
            "Four\n"
          ]
        }
      ]
    },
    {
      "cell_type": "code",
      "metadata": {
        "colab": {
          "base_uri": "https://localhost:8080/"
        },
        "id": "1UcNEF_9n2XD",
        "outputId": "c2da70de-c819-44cf-8bcf-c957bf755e26"
      },
      "source": [
        "x= \"enjoying\"\n",
        "print(\"Python programming is\"+\" \"+ x)"
      ],
      "execution_count": 31,
      "outputs": [
        {
          "output_type": "stream",
          "name": "stdout",
          "text": [
            "Python programming is enjoying\n"
          ]
        }
      ]
    },
    {
      "cell_type": "code",
      "metadata": {
        "colab": {
          "base_uri": "https://localhost:8080/"
        },
        "id": "PkmoJ35Koc-U",
        "outputId": "5cff1b1b-8c47-42fc-d4f5-7b05a647c0a1"
      },
      "source": [
        "x= \"Python is \"\n",
        "y= \"enjoying\"\n",
        "print(x+y)"
      ],
      "execution_count": 33,
      "outputs": [
        {
          "output_type": "stream",
          "name": "stdout",
          "text": [
            "Python is enjoying\n"
          ]
        }
      ]
    },
    {
      "cell_type": "code",
      "metadata": {
        "colab": {
          "base_uri": "https://localhost:8080/"
        },
        "id": "FjlSU3OQo3Ml",
        "outputId": "2428d4e4-0071-41ac-c79d-e8bbfc17f689"
      },
      "source": [
        "x= 5\n",
        "y= 3\n",
        "sum= x+y\n",
        "print(sum)"
      ],
      "execution_count": 36,
      "outputs": [
        {
          "output_type": "stream",
          "name": "stdout",
          "text": [
            "8\n"
          ]
        }
      ]
    },
    {
      "cell_type": "code",
      "metadata": {
        "colab": {
          "base_uri": "https://localhost:8080/"
        },
        "id": "b_uzA_FDpSm2",
        "outputId": "2e7dd23a-3e8c-4e64-f1da-34f591c08009"
      },
      "source": [
        "a,b,c=0,-1,8\n",
        "c%=3\n",
        "b%=1\n",
        "print(c)"
      ],
      "execution_count": 41,
      "outputs": [
        {
          "output_type": "stream",
          "name": "stdout",
          "text": [
            "2\n"
          ]
        }
      ]
    },
    {
      "cell_type": "code",
      "metadata": {
        "colab": {
          "base_uri": "https://localhost:8080/"
        },
        "id": "VdcqmUAPqEs3",
        "outputId": "26ac6d31-3763-4c66-ed23-e8b16bc03eb1"
      },
      "source": [
        "x = 5\n",
        "x<6 and x<10"
      ],
      "execution_count": 43,
      "outputs": [
        {
          "output_type": "execute_result",
          "data": {
            "text/plain": [
              "True"
            ]
          },
          "metadata": {},
          "execution_count": 43
        }
      ]
    },
    {
      "cell_type": "code",
      "metadata": {
        "colab": {
          "base_uri": "https://localhost:8080/"
        },
        "id": "Gsh3-HHyqf2H",
        "outputId": "9a78f886-9714-49d5-f744-f13d2a1927e7"
      },
      "source": [
        "y = 6\n",
        "y<6 or y>10"
      ],
      "execution_count": 45,
      "outputs": [
        {
          "output_type": "execute_result",
          "data": {
            "text/plain": [
              "False"
            ]
          },
          "metadata": {},
          "execution_count": 45
        }
      ]
    },
    {
      "cell_type": "code",
      "metadata": {
        "colab": {
          "base_uri": "https://localhost:8080/"
        },
        "id": "PuzZhfHMq5wo",
        "outputId": "9352b56d-8a83-413b-9218-e38be2b60cb1"
      },
      "source": [
        "y=6\n",
        "z=7\n",
        "y is not z"
      ],
      "execution_count": 48,
      "outputs": [
        {
          "output_type": "execute_result",
          "data": {
            "text/plain": [
              "True"
            ]
          },
          "metadata": {},
          "execution_count": 48
        }
      ]
    },
    {
      "cell_type": "code",
      "metadata": {
        "id": "rl5uO9rBrku8"
      },
      "source": [
        ""
      ],
      "execution_count": null,
      "outputs": []
    }
  ]
}