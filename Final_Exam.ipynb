{
  "nbformat": 4,
  "nbformat_minor": 0,
  "metadata": {
    "colab": {
      "name": "Final Exam.ipynb",
      "provenance": [],
      "collapsed_sections": [],
      "authorship_tag": "ABX9TyOGSix9RHAU85uiezO3Gczq",
      "include_colab_link": true
    },
    "kernelspec": {
      "name": "python3",
      "display_name": "Python 3"
    },
    "language_info": {
      "name": "python"
    }
  },
  "cells": [
    {
      "cell_type": "markdown",
      "metadata": {
        "id": "view-in-github",
        "colab_type": "text"
      },
      "source": [
        "<a href=\"https://colab.research.google.com/github/Eivin04/CPEN-ECE-2-2/blob/main/Final_Exam.ipynb\" target=\"_parent\"><img src=\"https://colab.research.google.com/assets/colab-badge.svg\" alt=\"Open In Colab\"/></a>"
      ]
    },
    {
      "cell_type": "markdown",
      "source": [
        "##**Final Exam**"
      ],
      "metadata": {
        "id": "HjAqy_hlKmTB"
      }
    },
    {
      "cell_type": "markdown",
      "source": [
        "#**PROBLEM STATEMENT 1** \n",
        "Create a Python program that will produce an output of sum of 10 numbers less than 5 using FOR LOOP statement.\n"
      ],
      "metadata": {
        "id": "lecHOTYWKw1Z"
      }
    },
    {
      "cell_type": "code",
      "source": [
        "output = 0\n",
        "numbers = [1,2,3,4,5,6,7,8,9,10]\n",
        "i = 1\n",
        "\n",
        "for x in numbers:\n",
        "    print(\"Number \",i,\": \", x)\n",
        "    i+=1\n",
        "    if x < 5:\n",
        "        output = output + x\n",
        "\n",
        "print (\"the sum of numbers less than 5 is: \",output)"
      ],
      "metadata": {
        "colab": {
          "base_uri": "https://localhost:8080/"
        },
        "id": "KIr_61BTLoJp",
        "outputId": "e6c42ed8-58a0-4cb0-d65b-ecd614d78d0d"
      },
      "execution_count": 88,
      "outputs": [
        {
          "output_type": "stream",
          "name": "stdout",
          "text": [
            "Number  1 :  1\n",
            "Number  2 :  2\n",
            "Number  3 :  3\n",
            "Number  4 :  4\n",
            "Number  5 :  5\n",
            "Number  6 :  6\n",
            "Number  7 :  7\n",
            "Number  8 :  8\n",
            "Number  9 :  9\n",
            "Number  10 :  10\n",
            "the sum of numbers less than 5 is:  10\n"
          ]
        }
      ]
    },
    {
      "cell_type": "markdown",
      "source": [
        "#**PROBLEM STATEMENT 2**\n",
        "\n",
        "Create a Python program that will produce accept five numbers and determine the sum of first and last number among the five numbers entered using WHILE LOOP.    \n"
      ],
      "metadata": {
        "id": "f3Nr5dRGOkbN"
      }
    },
    {
      "cell_type": "code",
      "source": [
        "i = 1\n",
        "temp = 0\n",
        "while i<6:\n",
        "    print(\"Enter number \",i, \":\")\n",
        "    num = int(input(\"\"))\n",
        "    if i==1 or i==5:\n",
        "        temp = temp + num\n",
        "        i+=1\n",
        "    else:\n",
        "        i+=1\n",
        "    if i>=6:\n",
        "        break\n",
        "        \n",
        "print (\"The sum is: \",temp)"
      ],
      "metadata": {
        "colab": {
          "base_uri": "https://localhost:8080/"
        },
        "id": "ugZzrfYhrJ4T",
        "outputId": "b2aa693f-48ea-4052-b3aa-a98e2a27553c"
      },
      "execution_count": 84,
      "outputs": [
        {
          "output_type": "stream",
          "name": "stdout",
          "text": [
            "Enter number  1 :\n",
            "2\n",
            "Enter number  2 :\n",
            "2\n",
            "Enter number  3 :\n",
            "2\n",
            "Enter number  4 :\n",
            "1\n",
            "Enter number  5 :\n",
            "12\n",
            "The sum is:  14\n"
          ]
        }
      ]
    },
    {
      "cell_type": "markdown",
      "source": [
        "#**PROBLEM STATEMENT 3**\n",
        "Create a Python program to calculate student grades. It accepts a numerical grade as input and it will display the character grade as output based on the given scale: (Use Nested-IF-Else statement)\n"
      ],
      "metadata": {
        "id": "fQS7cSchXyys"
      }
    },
    {
      "cell_type": "code",
      "source": [
        "grade = int(input(\"Enter your Grade:\"))\n",
        "if grade>=90:\n",
        "  print (\"Grade: A\")\n",
        "elif grade>=80:\n",
        "  print (\"Grade: B\")\n",
        "elif grade>=70:\n",
        "  print (\"Grade: C\")\n",
        "elif grade>=60:\n",
        "  print (\"Grade: D\")\n",
        "else:\n",
        "  print (\"Grade: F\")"
      ],
      "metadata": {
        "colab": {
          "base_uri": "https://localhost:8080/"
        },
        "id": "NEsFNObCX7hb",
        "outputId": "86559efc-6040-4fbf-c4f5-1c932f5b21fe"
      },
      "execution_count": 103,
      "outputs": [
        {
          "output_type": "stream",
          "name": "stdout",
          "text": [
            "Enter your Grade:89\n",
            "Grade: B\n"
          ]
        }
      ]
    }
  ]
}