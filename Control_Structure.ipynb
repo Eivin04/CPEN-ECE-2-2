{
  "nbformat": 4,
  "nbformat_minor": 0,
  "metadata": {
    "colab": {
      "name": "Control Structure.ipynb",
      "provenance": [],
      "collapsed_sections": [],
      "authorship_tag": "ABX9TyNKkLlVMgcCxhNfGyDPVO+w",
      "include_colab_link": true
    },
    "kernelspec": {
      "name": "python3",
      "display_name": "Python 3"
    },
    "language_info": {
      "name": "python"
    }
  },
  "cells": [
    {
      "cell_type": "markdown",
      "metadata": {
        "id": "view-in-github",
        "colab_type": "text"
      },
      "source": [
        "<a href=\"https://colab.research.google.com/github/Eivin04/CPEN-ECE-2-2/blob/main/Control_Structure.ipynb\" target=\"_parent\"><img src=\"https://colab.research.google.com/assets/colab-badge.svg\" alt=\"Open In Colab\"/></a>"
      ]
    },
    {
      "cell_type": "markdown",
      "metadata": {
        "id": "LlRYmqK0xU25"
      },
      "source": [
        "##If Statement"
      ]
    },
    {
      "cell_type": "code",
      "metadata": {
        "colab": {
          "base_uri": "https://localhost:8080/"
        },
        "id": "jYu4mEX8xNdz",
        "outputId": "7a883049-8332-4eda-85cb-3a6512d19d91"
      },
      "source": [
        "a = 12\n",
        "b = 100\n",
        "if b>a:\n",
        "  print (\"b is greater than a\")"
      ],
      "execution_count": 1,
      "outputs": [
        {
          "output_type": "stream",
          "name": "stdout",
          "text": [
            "b is greater than a\n"
          ]
        }
      ]
    },
    {
      "cell_type": "markdown",
      "metadata": {
        "id": "w33OcOnTygvL"
      },
      "source": [
        "##Elif Statement"
      ]
    },
    {
      "cell_type": "code",
      "metadata": {
        "colab": {
          "base_uri": "https://localhost:8080/"
        },
        "id": "yK4fUQUIym15",
        "outputId": "19e967cc-107f-48ae-87b0-f4687643684e"
      },
      "source": [
        "a = 12\n",
        "b = 100\n",
        "if b<a:\n",
        "  print (\"b is less than a\")\n",
        "elif b>a:\n",
        "  print (\"b is greater than a\")"
      ],
      "execution_count": 2,
      "outputs": [
        {
          "output_type": "stream",
          "name": "stdout",
          "text": [
            "b is greater than a\n"
          ]
        }
      ]
    },
    {
      "cell_type": "markdown",
      "metadata": {
        "id": "V4oTi6fNzD2i"
      },
      "source": [
        "##Else Statement"
      ]
    },
    {
      "cell_type": "code",
      "metadata": {
        "colab": {
          "base_uri": "https://localhost:8080/"
        },
        "id": "KdH9karNzGMC",
        "outputId": "5487c9d6-922d-458c-967d-633a0cdcfde8"
      },
      "source": [
        "a = 12\n",
        "b = 12\n",
        "if b<a:\n",
        "  print (\"b is less than a\")\n",
        "elif b>a:\n",
        "  print (\"b is greater than a\")\n",
        "else:\n",
        "  print (\"a is equal to b\")"
      ],
      "execution_count": 3,
      "outputs": [
        {
          "output_type": "stream",
          "name": "stdout",
          "text": [
            "a is equal to b\n"
          ]
        }
      ]
    },
    {
      "cell_type": "markdown",
      "metadata": {
        "id": "LVAl5BN1zxkV"
      },
      "source": [
        "##Short Hand If... Else"
      ]
    },
    {
      "cell_type": "code",
      "metadata": {
        "colab": {
          "base_uri": "https://localhost:8080/"
        },
        "id": "Fu679xnqz1Z7",
        "outputId": "0a2b2c76-fd52-4207-97c1-ef6f607bc436"
      },
      "source": [
        "a = 420\n",
        "b = 330\n",
        "print (\"A\") if a>b else print (\"B\")"
      ],
      "execution_count": 5,
      "outputs": [
        {
          "output_type": "stream",
          "name": "stdout",
          "text": [
            "A\n"
          ]
        }
      ]
    },
    {
      "cell_type": "markdown",
      "metadata": {
        "id": "1vVSlWlJ1Kr1"
      },
      "source": [
        "##And Condition"
      ]
    },
    {
      "cell_type": "code",
      "metadata": {
        "colab": {
          "base_uri": "https://localhost:8080/"
        },
        "id": "Xmjizj3c1NA1",
        "outputId": "b0de102b-17e4-4cca-ff5c-4682c867555a"
      },
      "source": [
        "a = 200\n",
        "b = 33\n",
        "c = 500\n",
        "if a>b and a<c:\n",
        "  print (\"The conditions need to be True\")"
      ],
      "execution_count": 6,
      "outputs": [
        {
          "output_type": "stream",
          "name": "stdout",
          "text": [
            "The conditions need to be True\n"
          ]
        }
      ]
    },
    {
      "cell_type": "markdown",
      "metadata": {
        "id": "6Q2tDTxN2EEt"
      },
      "source": [
        "##Or Condition"
      ]
    },
    {
      "cell_type": "code",
      "metadata": {
        "colab": {
          "base_uri": "https://localhost:8080/"
        },
        "id": "tv6j8o602I3t",
        "outputId": "c4f9d29c-3a60-4f33-d962-5510374682f6"
      },
      "source": [
        "a = 200\n",
        "b = 33\n",
        "c = 500\n",
        "if a>b or a<b:\n",
        "  print (\"One of the conditions is True\")"
      ],
      "execution_count": 9,
      "outputs": [
        {
          "output_type": "stream",
          "name": "stdout",
          "text": [
            "One of the conditions is True\n"
          ]
        }
      ]
    },
    {
      "cell_type": "markdown",
      "metadata": {
        "id": "-UHpmN_Q3lqg"
      },
      "source": [
        "##Nested if"
      ]
    },
    {
      "cell_type": "code",
      "metadata": {
        "colab": {
          "base_uri": "https://localhost:8080/"
        },
        "id": "McCdQ1f33or3",
        "outputId": "ef4e48bf-542b-4caa-9910-1eab6dad123c"
      },
      "source": [
        "a = 41\n",
        "if a>10:\n",
        "  print (\"Above 10\")\n",
        "  if a>20:\n",
        "    print (\"Above 20\")\n",
        "  else:\n",
        "    print (\"not above 20\")"
      ],
      "execution_count": 12,
      "outputs": [
        {
          "output_type": "stream",
          "name": "stdout",
          "text": [
            "Above 10\n",
            "Above 20\n"
          ]
        }
      ]
    },
    {
      "cell_type": "markdown",
      "metadata": {
        "id": "Rkf9l7b14I9f"
      },
      "source": [
        "##Nested If... Else"
      ]
    },
    {
      "cell_type": "code",
      "metadata": {
        "colab": {
          "base_uri": "https://localhost:8080/"
        },
        "id": "SHLpQ5uQ4MVg",
        "outputId": "be7efb86-93e8-439d-97ab-23ed66bde27f"
      },
      "source": [
        "a = 4\n",
        "if a>10:\n",
        "  print (\"Above 10\")\n",
        "  if a>20:\n",
        "    print (\"Above 20\")\n",
        "  else:\n",
        "    print (\"not above 20\")\n",
        "else:\n",
        "  print (\"Below 10\")"
      ],
      "execution_count": 14,
      "outputs": [
        {
          "output_type": "stream",
          "name": "stdout",
          "text": [
            "Below 10\n"
          ]
        }
      ]
    },
    {
      "cell_type": "markdown",
      "metadata": {
        "id": "ZcWL7MBw48Ci"
      },
      "source": [
        "##Example 1\n",
        "Write a program that determines if the input age is qualified to vote or not. The qualifying age is 18 years old and above."
      ]
    },
    {
      "cell_type": "code",
      "metadata": {
        "colab": {
          "base_uri": "https://localhost:8080/"
        },
        "id": "4JZYM75v4_Rp",
        "outputId": "7927905d-6eff-40bf-e854-89207e31ac78"
      },
      "source": [
        "Age = int(input(\"Age:\"))\n",
        "if Age>=18:\n",
        "  print (\"Qualified to Vote\")\n",
        "else:\n",
        "  print (\"Not Qualified to Vote\")"
      ],
      "execution_count": 19,
      "outputs": [
        {
          "output_type": "stream",
          "name": "stdout",
          "text": [
            "Age:20\n",
            "Qualified to Vote\n"
          ]
        }
      ]
    },
    {
      "cell_type": "code",
      "metadata": {
        "colab": {
          "base_uri": "https://localhost:8080/"
        },
        "id": "y4iv9MFe67G8",
        "outputId": "458459bf-0f0d-4414-9061-97fbef4760e2"
      },
      "source": [
        "#The qualifying age to vote\n",
        "\n",
        "age = 18\n",
        "if age>=18:\n",
        "  print (\"You are qualified to vote\")\n",
        "else:\n",
        "  print (\"You are not qualified to vote\")"
      ],
      "execution_count": 20,
      "outputs": [
        {
          "output_type": "stream",
          "name": "stdout",
          "text": [
            "You are qualified to vote\n"
          ]
        }
      ]
    },
    {
      "cell_type": "markdown",
      "metadata": {
        "id": "KhVWnxub7gyN"
      },
      "source": [
        "##Example 2\n",
        "Write a program that determines if the input number is POSITIVE or NEGATIVE. Consider 0 as positive (considering that it contains no negative sign)."
      ]
    },
    {
      "cell_type": "code",
      "metadata": {
        "colab": {
          "base_uri": "https://localhost:8080/"
        },
        "id": "AGWnpHiy72X-",
        "outputId": "d7903862-e45e-4113-84c5-f7f2bdcde840"
      },
      "source": [
        "n = int(input(\"Number:\"))\n",
        "if n>0:\n",
        "  print (\"POSITIVE\")\n",
        "elif n==0:\n",
        "  print (\"POSITIVE\")\n",
        "else:\n",
        "  print (\"NEGATIVE\")"
      ],
      "execution_count": 22,
      "outputs": [
        {
          "output_type": "stream",
          "name": "stdout",
          "text": [
            "Number:-1\n",
            "NEGATIVE\n"
          ]
        }
      ]
    },
    {
      "cell_type": "code",
      "metadata": {
        "colab": {
          "base_uri": "https://localhost:8080/"
        },
        "id": "bboOItR69ZqQ",
        "outputId": "4ada7664-5dd0-497f-fc33-b4c0a01e5fb7"
      },
      "source": [
        "number = int(input(\"Enter a number:\"))\n",
        "if number>0:\n",
        "  print (\"You entered a positive number\")\n",
        "elif number==0:\n",
        "  print (\"You entered zero\")\n",
        "else:\n",
        "  print (\"You entered a negative number\")"
      ],
      "execution_count": 23,
      "outputs": [
        {
          "output_type": "stream",
          "name": "stdout",
          "text": [
            "Enter a number:0\n",
            "You entered zero\n"
          ]
        }
      ]
    }
  ]
}