{
  "nbformat": 4,
  "nbformat_minor": 0,
  "metadata": {
    "colab": {
      "name": "Midterm Exam.ipynb",
      "provenance": [],
      "collapsed_sections": [],
      "authorship_tag": "ABX9TyMY5d/w4WhxTAZFMGYi3XDG",
      "include_colab_link": true
    },
    "kernelspec": {
      "name": "python3",
      "display_name": "Python 3"
    },
    "language_info": {
      "name": "python"
    }
  },
  "cells": [
    {
      "cell_type": "markdown",
      "metadata": {
        "id": "view-in-github",
        "colab_type": "text"
      },
      "source": [
        "<a href=\"https://colab.research.google.com/github/Eivin04/CPEN-ECE-2-2/blob/main/Midterm_Exam.ipynb\" target=\"_parent\"><img src=\"https://colab.research.google.com/assets/colab-badge.svg\" alt=\"Open In Colab\"/></a>"
      ]
    },
    {
      "cell_type": "markdown",
      "metadata": {
        "id": "8S4UJNiwro0s"
      },
      "source": [
        "**Midterm Exam**"
      ]
    },
    {
      "cell_type": "markdown",
      "metadata": {
        "id": "eXWchs-EvLxA"
      },
      "source": [
        "**Problem Set no. 1**"
      ]
    },
    {
      "cell_type": "code",
      "metadata": {
        "colab": {
          "base_uri": "https://localhost:8080/"
        },
        "id": "lm4AY6HOrncf",
        "outputId": "d820db94-6dc5-4418-97e1-3acbae42f3eb"
      },
      "source": [
        "print (\"Full Name: Eivin Joshua J. Magsayo\")"
      ],
      "execution_count": 11,
      "outputs": [
        {
          "output_type": "stream",
          "name": "stdout",
          "text": [
            "Full Name: Eivin Joshua J. Magsayo\n"
          ]
        }
      ]
    },
    {
      "cell_type": "code",
      "metadata": {
        "colab": {
          "base_uri": "https://localhost:8080/"
        },
        "id": "w5mkA41AsaOW",
        "outputId": "c22aaaa7-6e26-4d6b-cb3d-7a929cea9074"
      },
      "source": [
        "print (\"Student Number: 202012054\")"
      ],
      "execution_count": 3,
      "outputs": [
        {
          "output_type": "stream",
          "name": "stdout",
          "text": [
            "Student Number: 202012054\n"
          ]
        }
      ]
    },
    {
      "cell_type": "code",
      "metadata": {
        "colab": {
          "base_uri": "https://localhost:8080/"
        },
        "id": "33UYjGU-stvl",
        "outputId": "f660ac69-0488-4413-c699-61d312068106"
      },
      "source": [
        "print (\"Age: 20 years old\")"
      ],
      "execution_count": 8,
      "outputs": [
        {
          "output_type": "stream",
          "name": "stdout",
          "text": [
            "Age: 20 years old\n"
          ]
        }
      ]
    },
    {
      "cell_type": "code",
      "metadata": {
        "colab": {
          "base_uri": "https://localhost:8080/"
        },
        "id": "kv1KpSpctrF_",
        "outputId": "f40a2da2-fb33-4340-8bb5-cbe9da690657"
      },
      "source": [
        "print (\"Birthday: October 4, 2001\")"
      ],
      "execution_count": 10,
      "outputs": [
        {
          "output_type": "stream",
          "name": "stdout",
          "text": [
            "Birthday: October 4, 2001\n"
          ]
        }
      ]
    },
    {
      "cell_type": "code",
      "metadata": {
        "colab": {
          "base_uri": "https://localhost:8080/"
        },
        "id": "RBcFzqlZt3Pf",
        "outputId": "c6161844-7a3d-493b-8b4c-a1953f9fce43"
      },
      "source": [
        "print (\"Address: Purok 135, Brgy. Neogan, Tagaytay City, Cavite\")"
      ],
      "execution_count": 12,
      "outputs": [
        {
          "output_type": "stream",
          "name": "stdout",
          "text": [
            "Address: Purok 135, Brgy. Neogan, Tagaytay City, Cavite\n"
          ]
        }
      ]
    },
    {
      "cell_type": "code",
      "metadata": {
        "colab": {
          "base_uri": "https://localhost:8080/"
        },
        "id": "sEMp-qX7uHoe",
        "outputId": "c8cc4ca9-56b3-4336-b9db-be8f29519a91"
      },
      "source": [
        "print (\"Course: BSECE\")"
      ],
      "execution_count": 13,
      "outputs": [
        {
          "output_type": "stream",
          "name": "stdout",
          "text": [
            "Course: BSECE\n"
          ]
        }
      ]
    },
    {
      "cell_type": "code",
      "metadata": {
        "colab": {
          "base_uri": "https://localhost:8080/"
        },
        "id": "LX8d7zc0uS3l",
        "outputId": "fb37cdf5-4332-4a0e-9483-5852b102a3f3"
      },
      "source": [
        "print (\"Last Sem GWA: 1.75\")"
      ],
      "execution_count": 14,
      "outputs": [
        {
          "output_type": "stream",
          "name": "stdout",
          "text": [
            "Last Sem GWA: 1.75\n"
          ]
        }
      ]
    },
    {
      "cell_type": "markdown",
      "metadata": {
        "id": "Ryc0FYxTvRl5"
      },
      "source": [
        "**Problem Set no. 2**"
      ]
    },
    {
      "cell_type": "code",
      "metadata": {
        "colab": {
          "base_uri": "https://localhost:8080/"
        },
        "id": "VQzZpxtPvf8x",
        "outputId": "ee20ba2b-f364-4a3c-9b18-59f367812379"
      },
      "source": [
        "#a\n",
        "n = 4\n",
        "(2<n) and (n<6)"
      ],
      "execution_count": 50,
      "outputs": [
        {
          "output_type": "execute_result",
          "data": {
            "text/plain": [
              "True"
            ]
          },
          "metadata": {},
          "execution_count": 50
        }
      ]
    },
    {
      "cell_type": "code",
      "metadata": {
        "colab": {
          "base_uri": "https://localhost:8080/"
        },
        "id": "kNnhnnWLvycY",
        "outputId": "6b443041-f401-469d-ef54-d8a2d9c76038"
      },
      "source": [
        "#b\n",
        "n = 4\n",
        "(2<n) or (n==6)"
      ],
      "execution_count": 49,
      "outputs": [
        {
          "output_type": "execute_result",
          "data": {
            "text/plain": [
              "True"
            ]
          },
          "metadata": {},
          "execution_count": 49
        }
      ]
    },
    {
      "cell_type": "code",
      "metadata": {
        "colab": {
          "base_uri": "https://localhost:8080/"
        },
        "id": "BgYm-Ns0xQSb",
        "outputId": "cf810ed6-509c-44a6-95a7-b53cf41b9f42"
      },
      "source": [
        "#c\n",
        "n = 4\n",
        "not (2<n) or (n==6)"
      ],
      "execution_count": 27,
      "outputs": [
        {
          "output_type": "execute_result",
          "data": {
            "text/plain": [
              "False"
            ]
          },
          "metadata": {},
          "execution_count": 27
        }
      ]
    },
    {
      "cell_type": "code",
      "metadata": {
        "colab": {
          "base_uri": "https://localhost:8080/"
        },
        "id": "gBSSAOrbx84T",
        "outputId": "2aaea068-d79d-4735-9e00-46e21ca9660e"
      },
      "source": [
        "#d\n",
        "n = 4\n",
        "not (n==6)"
      ],
      "execution_count": 28,
      "outputs": [
        {
          "output_type": "execute_result",
          "data": {
            "text/plain": [
              "True"
            ]
          },
          "metadata": {},
          "execution_count": 28
        }
      ]
    },
    {
      "cell_type": "code",
      "metadata": {
        "colab": {
          "base_uri": "https://localhost:8080/"
        },
        "id": "_gYbmYeQyXId",
        "outputId": "1cd19b16-9f75-432b-beef-7b6b3a764b48"
      },
      "source": [
        "#e\n",
        "answ= \"Y\"\n",
        "(answ==\"Y\") or (answ==\"y\")"
      ],
      "execution_count": 33,
      "outputs": [
        {
          "output_type": "execute_result",
          "data": {
            "text/plain": [
              "True"
            ]
          },
          "metadata": {},
          "execution_count": 33
        }
      ]
    },
    {
      "cell_type": "code",
      "metadata": {
        "colab": {
          "base_uri": "https://localhost:8080/"
        },
        "id": "0Yr2qvz3yqe8",
        "outputId": "556b73ea-2196-4a3d-fc73-430b73da6204"
      },
      "source": [
        "#f\n",
        "answ= \"Y\"\n",
        "(answ== \"Y\") and (answ==\"y\")"
      ],
      "execution_count": 34,
      "outputs": [
        {
          "output_type": "execute_result",
          "data": {
            "text/plain": [
              "False"
            ]
          },
          "metadata": {},
          "execution_count": 34
        }
      ]
    },
    {
      "cell_type": "code",
      "metadata": {
        "colab": {
          "base_uri": "https://localhost:8080/"
        },
        "id": "xWWa1DxwzJ2V",
        "outputId": "ea50cc8c-e007-4401-a810-7d62c935cb36"
      },
      "source": [
        "#g\n",
        "answ= \"Y\"\n",
        "not (answ== \"y\")"
      ],
      "execution_count": 36,
      "outputs": [
        {
          "output_type": "execute_result",
          "data": {
            "text/plain": [
              "True"
            ]
          },
          "metadata": {},
          "execution_count": 36
        }
      ]
    },
    {
      "cell_type": "code",
      "metadata": {
        "colab": {
          "base_uri": "https://localhost:8080/"
        },
        "id": "74UEh2hCzvYO",
        "outputId": "a1b1e6c3-3743-4738-80f9-986104b7ac8e"
      },
      "source": [
        "#h\n",
        "n = 4\n",
        "answ= \"Y\"\n",
        "((2<n) and (n==5+1)) or (answ== \"No\")"
      ],
      "execution_count": 45,
      "outputs": [
        {
          "output_type": "execute_result",
          "data": {
            "text/plain": [
              "False"
            ]
          },
          "metadata": {},
          "execution_count": 45
        }
      ]
    },
    {
      "cell_type": "code",
      "metadata": {
        "colab": {
          "base_uri": "https://localhost:8080/"
        },
        "id": "xDWCMvjt0PzM",
        "outputId": "69016b88-0e43-4c7c-b714-780c6285d994"
      },
      "source": [
        "#i\n",
        "n = 4\n",
        "answ= \"Y\"\n",
        "((n==2) and (n==7)) or (answ== \"Y\")"
      ],
      "execution_count": 46,
      "outputs": [
        {
          "output_type": "execute_result",
          "data": {
            "text/plain": [
              "True"
            ]
          },
          "metadata": {},
          "execution_count": 46
        }
      ]
    },
    {
      "cell_type": "code",
      "metadata": {
        "colab": {
          "base_uri": "https://localhost:8080/"
        },
        "id": "81UaiJVB01C5",
        "outputId": "536d778d-9e99-4145-afb2-4cd28edd1362"
      },
      "source": [
        "#j\n",
        "n = 4\n",
        "answ= \"Y\"\n",
        "(n==2) and ((n==7) or (answ== \"Y\"))"
      ],
      "execution_count": 47,
      "outputs": [
        {
          "output_type": "execute_result",
          "data": {
            "text/plain": [
              "False"
            ]
          },
          "metadata": {},
          "execution_count": 47
        }
      ]
    },
    {
      "cell_type": "markdown",
      "metadata": {
        "id": "byfWlW5B2BMB"
      },
      "source": [
        "**Problem Statement No. 3**"
      ]
    },
    {
      "cell_type": "code",
      "metadata": {
        "colab": {
          "base_uri": "https://localhost:8080/"
        },
        "id": "DPC9DN2u2JNq",
        "outputId": "9c7acf73-e317-4f1b-e39d-b7e4b12ea0d1"
      },
      "source": [
        "#a\n",
        "x = 2\n",
        "y = 3\n",
        "print (x/y)"
      ],
      "execution_count": 48,
      "outputs": [
        {
          "output_type": "stream",
          "name": "stdout",
          "text": [
            "0.6666666666666666\n"
          ]
        }
      ]
    },
    {
      "cell_type": "code",
      "metadata": {
        "colab": {
          "base_uri": "https://localhost:8080/"
        },
        "id": "--ErBfIR3ZXZ",
        "outputId": "f700462f-5c6f-4d67-af51-edce6b069c2b"
      },
      "source": [
        "#b\n",
        "w = 7\n",
        "x = 2\n",
        "y = -3\n",
        "print (w/y/x)"
      ],
      "execution_count": 51,
      "outputs": [
        {
          "output_type": "stream",
          "name": "stdout",
          "text": [
            "-1.1666666666666667\n"
          ]
        }
      ]
    },
    {
      "cell_type": "code",
      "metadata": {
        "colab": {
          "base_uri": "https://localhost:8080/"
        },
        "id": "Us-xsW3N32Gy",
        "outputId": "68341960-7a9c-4237-80a5-a6299b0c53b1"
      },
      "source": [
        "#c\n",
        "x = 2\n",
        "y = -3\n",
        "z = -10\n",
        "print (z/y%x)"
      ],
      "execution_count": 52,
      "outputs": [
        {
          "output_type": "stream",
          "name": "stdout",
          "text": [
            "1.3333333333333335\n"
          ]
        }
      ]
    },
    {
      "cell_type": "code",
      "metadata": {
        "colab": {
          "base_uri": "https://localhost:8080/"
        },
        "id": "0doEZf374RIB",
        "outputId": "32f62792-a975-4723-8ad4-c172f554f8dd"
      },
      "source": [
        "#d\n",
        "w = 7\n",
        "x = 2\n",
        "y = -3\n",
        "print (x%-y*w)"
      ],
      "execution_count": 53,
      "outputs": [
        {
          "output_type": "stream",
          "name": "stdout",
          "text": [
            "14\n"
          ]
        }
      ]
    },
    {
      "cell_type": "code",
      "metadata": {
        "colab": {
          "base_uri": "https://localhost:8080/"
        },
        "id": "BuzNvcVR4fwz",
        "outputId": "cb31ca78-93b8-4539-b810-a33bdde196f8"
      },
      "source": [
        "#e\n",
        "x = 2\n",
        "y = -3\n",
        "print (x%y)"
      ],
      "execution_count": 54,
      "outputs": [
        {
          "output_type": "stream",
          "name": "stdout",
          "text": [
            "-1\n"
          ]
        }
      ]
    },
    {
      "cell_type": "code",
      "metadata": {
        "colab": {
          "base_uri": "https://localhost:8080/"
        },
        "id": "0mrp3aB04scC",
        "outputId": "46e5d7bf-0fca-482c-c53c-2e3a902ade07"
      },
      "source": [
        "#f\n",
        "w = 7\n",
        "x = 2\n",
        "y = -3\n",
        "z = -10\n",
        "print (z%w-y/x*5+5)"
      ],
      "execution_count": 55,
      "outputs": [
        {
          "output_type": "stream",
          "name": "stdout",
          "text": [
            "16.5\n"
          ]
        }
      ]
    },
    {
      "cell_type": "code",
      "metadata": {
        "colab": {
          "base_uri": "https://localhost:8080/"
        },
        "id": "mx2dLOan5K08",
        "outputId": "57fafda5-b8cf-488c-edf7-065f0a593063"
      },
      "source": [
        "#g\n",
        "x = 2\n",
        "y = -3\n",
        "print (9-x%(2+y))"
      ],
      "execution_count": 58,
      "outputs": [
        {
          "output_type": "stream",
          "name": "stdout",
          "text": [
            "9\n"
          ]
        }
      ]
    },
    {
      "cell_type": "code",
      "metadata": {
        "colab": {
          "base_uri": "https://localhost:8080/"
        },
        "id": "tzC6qPRt5kfV",
        "outputId": "8d2784dd-d299-42d4-d8d2-64293c7ada78"
      },
      "source": [
        "#h\n",
        "w = 7\n",
        "z = -10\n",
        "print (z/w)"
      ],
      "execution_count": 59,
      "outputs": [
        {
          "output_type": "stream",
          "name": "stdout",
          "text": [
            "-1.4285714285714286\n"
          ]
        }
      ]
    },
    {
      "cell_type": "code",
      "metadata": {
        "colab": {
          "base_uri": "https://localhost:8080/"
        },
        "id": "5BSz6Ncc5vMd",
        "outputId": "5b54d4e3-27d2-473e-d633-d96fcd67447f"
      },
      "source": [
        "#i\n",
        "y = -3\n",
        "print ((2+y)**2)"
      ],
      "execution_count": 61,
      "outputs": [
        {
          "output_type": "stream",
          "name": "stdout",
          "text": [
            "1\n"
          ]
        }
      ]
    },
    {
      "cell_type": "code",
      "metadata": {
        "colab": {
          "base_uri": "https://localhost:8080/"
        },
        "id": "iUcq9qeG5-nO",
        "outputId": "611e2bb9-00e2-4536-f5d5-d145b05c06a6"
      },
      "source": [
        "#j\n",
        "w = 7\n",
        "x = 2\n",
        "print (w/x*2)"
      ],
      "execution_count": 62,
      "outputs": [
        {
          "output_type": "stream",
          "name": "stdout",
          "text": [
            "7.0\n"
          ]
        }
      ]
    }
  ]
}