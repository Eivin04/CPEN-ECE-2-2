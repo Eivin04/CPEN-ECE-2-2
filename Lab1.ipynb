{
  "nbformat": 4,
  "nbformat_minor": 0,
  "metadata": {
    "colab": {
      "name": "Lab1.ipynb",
      "provenance": [],
      "authorship_tag": "ABX9TyOnHnoWAD/XgLGPwkVOjP5S",
      "include_colab_link": true
    },
    "kernelspec": {
      "name": "python3",
      "display_name": "Python 3"
    },
    "language_info": {
      "name": "python"
    }
  },
  "cells": [
    {
      "cell_type": "markdown",
      "metadata": {
        "id": "view-in-github",
        "colab_type": "text"
      },
      "source": [
        "<a href=\"https://colab.research.google.com/github/Eivin04/CPEN-ECE-2-2/blob/main/Lab1.ipynb\" target=\"_parent\"><img src=\"https://colab.research.google.com/assets/colab-badge.svg\" alt=\"Open In Colab\"/></a>"
      ]
    },
    {
      "cell_type": "code",
      "metadata": {
        "id": "_6ZqBfVslq9x"
      },
      "source": [
        "#Laboratory 1"
      ],
      "execution_count": 71,
      "outputs": []
    },
    {
      "cell_type": "code",
      "metadata": {
        "colab": {
          "base_uri": "https://localhost:8080/"
        },
        "id": "jT7SzG_Jfxem",
        "outputId": "ad45d237-cded-4ba8-cdd1-1f6bc7f18b52"
      },
      "source": [
        "print (\"Welcome to Python Programming\")"
      ],
      "execution_count": 67,
      "outputs": [
        {
          "output_type": "stream",
          "name": "stdout",
          "text": [
            "Welcome to Python Programming\n"
          ]
        }
      ]
    },
    {
      "cell_type": "code",
      "metadata": {
        "colab": {
          "base_uri": "https://localhost:8080/"
        },
        "id": "SzLlBIvYf2kA",
        "outputId": "7584b8bf-29f4-4883-fc92-8530fd251ab9"
      },
      "source": [
        "#Input Name\n",
        "Name= (input(\"Name:\"))"
      ],
      "execution_count": 68,
      "outputs": [
        {
          "name": "stdout",
          "output_type": "stream",
          "text": [
            "Name:Eivin Joshua J. Magsayo\n"
          ]
        }
      ]
    },
    {
      "cell_type": "code",
      "metadata": {
        "colab": {
          "base_uri": "https://localhost:8080/"
        },
        "id": "zsNVtYqQgqUA",
        "outputId": "4e275a88-d476-4d70-be9d-5a5f9f75898d"
      },
      "source": [
        "#Input Age\n",
        "Age= (input(\"Age:\"))"
      ],
      "execution_count": 69,
      "outputs": [
        {
          "name": "stdout",
          "output_type": "stream",
          "text": [
            "Age:20 yrs old\n"
          ]
        }
      ]
    },
    {
      "cell_type": "code",
      "metadata": {
        "colab": {
          "base_uri": "https://localhost:8080/"
        },
        "id": "arDzjAUkg1fw",
        "outputId": "e361d803-5bf8-4c7f-a5a1-d6c3c95d6e0e"
      },
      "source": [
        "#Input Address\n",
        "Address= (input(\"Address:\"))"
      ],
      "execution_count": 70,
      "outputs": [
        {
          "name": "stdout",
          "output_type": "stream",
          "text": [
            "Address:Purok 135, Brgy. Neogan, Tagaytay City, Cavite\n"
          ]
        }
      ]
    }
  ]
}